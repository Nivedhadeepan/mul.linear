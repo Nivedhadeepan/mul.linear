{
 "cells": [
  {
   "cell_type": "code",
   "execution_count": 1,
   "id": "5b1242f8-dd0c-4d65-a473-939b9f029c84",
   "metadata": {},
   "outputs": [],
   "source": [
    "import pickle"
   ]
  },
  {
   "cell_type": "code",
   "execution_count": 2,
   "id": "60b2dbee-a39e-4afe-acd2-0295869e2233",
   "metadata": {},
   "outputs": [],
   "source": [
    "filename=\"mulline_final.sav\"\n"
   ]
  },
  {
   "cell_type": "code",
   "execution_count": 3,
   "id": "f20d5965-7307-4e1b-9059-66e3f59e8a67",
   "metadata": {},
   "outputs": [
    {
     "name": "stderr",
     "output_type": "stream",
     "text": [
      "C:\\anaconda3\\Lib\\site-packages\\sklearn\\base.py:493: UserWarning: X does not have valid feature names, but LinearRegression was fitted with feature names\n",
      "  warnings.warn(\n"
     ]
    }
   ],
   "source": [
    "loaded_model=pickle.load(open(filename,\"rb\"))\n",
    "result=loaded_model.predict([[1245,256,4562,0,1]])"
   ]
  },
  {
   "cell_type": "raw",
   "id": "2fd3bcab-86b8-49c3-aa1b-bb7f6b6032f5",
   "metadata": {},
   "source": [
    "result"
   ]
  },
  {
   "cell_type": "code",
   "execution_count": 4,
   "id": "4bb5592e-951b-4e30-be5d-09c426b7d1f9",
   "metadata": {},
   "outputs": [
    {
     "data": {
      "text/plain": [
       "array([[43842.48672218]])"
      ]
     },
     "execution_count": 4,
     "metadata": {},
     "output_type": "execute_result"
    }
   ],
   "source": [
    "result"
   ]
  },
  {
   "cell_type": "code",
   "execution_count": null,
   "id": "e0493349-bdfb-43d3-94ca-a8c407d5e78d",
   "metadata": {},
   "outputs": [],
   "source": []
  }
 ],
 "metadata": {
  "kernelspec": {
   "display_name": "Python 3 (ipykernel)",
   "language": "python",
   "name": "python3"
  },
  "language_info": {
   "codemirror_mode": {
    "name": "ipython",
    "version": 3
   },
   "file_extension": ".py",
   "mimetype": "text/x-python",
   "name": "python",
   "nbconvert_exporter": "python",
   "pygments_lexer": "ipython3",
   "version": "3.12.7"
  }
 },
 "nbformat": 4,
 "nbformat_minor": 5
}
